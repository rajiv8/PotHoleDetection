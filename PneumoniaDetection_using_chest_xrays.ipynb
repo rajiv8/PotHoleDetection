{
 "cells": [
  {
   "cell_type": "markdown",
   "metadata": {
    "id": "8wwZKHORrR-9"
   },
   "source": [
    "## Importing the required libraries "
   ]
  },
  {
   "cell_type": "code",
   "execution_count": 2,
   "metadata": {
    "id": "C1vzYBEiYH6_"
   },
   "outputs": [],
   "source": [
    "import numpy as np\n",
    "import cv2\n",
    "import os\n",
    "import random\n",
    "import matplotlib.pyplot as plt\n",
    "import pickle\n",
    "\n",
    "import matplotlib.pyplot as plt\n",
    "import seaborn as sns"
   ]
  },
  {
   "cell_type": "markdown",
   "metadata": {
    "id": "d77qMVKFriAZ"
   },
   "source": [
    "## Pre-Processing/Preparing dataset"
   ]
  },
  {
   "cell_type": "code",
   "execution_count": 4,
   "metadata": {
    "id": "Ke3LfY4OYjcT"
   },
   "outputs": [],
   "source": [
    "# setting the path of training dataset\n",
    "DIRECTORY=r\"/content/drive/MyDrive/chest_xray/train\"\n",
    "CATEGORIES=[\"NORMAL\",\"PNEUMONIA\"]"
   ]
  },
  {
   "cell_type": "code",
   "execution_count": 5,
   "metadata": {
    "colab": {
     "base_uri": "https://localhost:8080/"
    },
    "id": "lx8BToO2YmNo",
    "outputId": "73fc3bac-f8f5-471c-dd3f-0d85cf240395"
   },
   "outputs": [
    {
     "name": "stdout",
     "output_type": "stream",
     "text": [
      "The NORMAL xrays are 3342\n",
      "The PNEUMONIA xrays are 3875\n",
      "----------------------------------\n",
      "{'NORMAL': 0, 'PNEUMONIA': 1}\n"
     ]
    }
   ],
   "source": [
    "for category in CATEGORIES:\n",
    "  folder = os.path.join(DIRECTORY,category)\n",
    "  count=0\n",
    "  for img in os.listdir(folder):\n",
    "    count+=1;\n",
    "  print(f\"The {category} xrays are {count}\")\n",
    "\n",
    "print(\"----------------------------------\")\n",
    "\n",
    "labels = [i for i in range(len(CATEGORIES))]\n",
    "labeldict={}\n",
    "for i in range (len(CATEGORIES)):\n",
    "    labeldict[CATEGORIES[i]]=labels[i]\n",
    "print(labeldict)"
   ]
  },
  {
   "cell_type": "code",
   "execution_count": null,
   "metadata": {
    "id": "OUPwRR4bYtvg"
   },
   "outputs": [],
   "source": [
    "# Normal category Data was half of the Pneumonia data, \n",
    "# Therefore Data Augmentation on Normal class is being done \n",
    "from keras.preprocessing.image import ImageDataGenerator,array_to_img,img_to_array,load_img\n",
    "\n",
    "datagen = ImageDataGenerator(\n",
    "    rotation_range=5,\n",
    "    shear_range=0.02,\n",
    "    zoom_range=0.02,\n",
    "    fill_mode='nearest'\n",
    ")\n",
    "img = load_img('/content/drive/MyDrive/chest_xray/train/NORMAL/IM-0637-0001.jpeg')\n",
    "x = img_to_array(img)\n",
    "x = x.reshape((1,)+x.shape)\n",
    "\n",
    "i=0\n",
    "for batch in datagen.flow(x,batch_size=1,save_to_dir='/content/drive/MyDrive/chest_xray/train/NORMAL',save_prefix='Normaldatagen',save_format='JPEG'):\n",
    "  i+=1\n",
    "  if i>800:\n",
    "    break"
   ]
  },
  {
   "cell_type": "code",
   "execution_count": 6,
   "metadata": {
    "colab": {
     "base_uri": "https://localhost:8080/"
    },
    "id": "IocNge5pY1WS",
    "outputId": "3e031f45-ab50-4bbc-b0d6-647c51c5a767"
   },
   "outputs": [
    {
     "name": "stdout",
     "output_type": "stream",
     "text": [
      "The NORMAL xrays are 3342\n",
      "The PNEUMONIA xrays are 3875\n"
     ]
    }
   ],
   "source": [
    "# Now again counting the number of data in both the category after performing data augmentation \n",
    "for category in CATEGORIES:\n",
    "  folder = os.path.join(DIRECTORY,category)\n",
    "  count=0\n",
    "  for img in os.listdir(folder):\n",
    "    count+=1;\n",
    "  print(f\"The {category} xrays are {count}\")\n",
    "  "
   ]
  },
  {
   "cell_type": "code",
   "execution_count": 7,
   "metadata": {
    "id": "ONocv6kwY4vi"
   },
   "outputs": [],
   "source": [
    "# Preparing the dataset\n",
    "data=[]\n",
    "for category in CATEGORIES:\n",
    "  folder = os.path.join(DIRECTORY,category)\n",
    "  # print(folder)\n",
    "  label = CATEGORIES.index(category)\n",
    "  for img in os.listdir(folder):\n",
    "    img_path = os.path.join(folder,img)\n",
    "    img_arr = cv2.imread(img_path)\n",
    "    img_arr = cv2.resize(img_arr,(120,120))\n",
    "    # plt.imshow(img_arr)\n",
    "    data.append([img_arr,label])"
   ]
  },
  {
   "cell_type": "code",
   "execution_count": 8,
   "metadata": {
    "colab": {
     "base_uri": "https://localhost:8080/",
     "height": 320
    },
    "id": "b2b8x37aY7U8",
    "outputId": "0d7049a4-b57c-448f-8ab1-4daa7621d691"
   },
   "outputs": [
    {
     "name": "stderr",
     "output_type": "stream",
     "text": [
      "/usr/local/lib/python3.7/dist-packages/seaborn/_decorators.py:43: FutureWarning: Pass the following variable as a keyword arg: x. From version 0.12, the only valid positional argument will be `data`, and passing other arguments without an explicit keyword will result in an error or misinterpretation.\n",
      "  FutureWarning\n"
     ]
    },
    {
     "data": {
      "image/png": "[encoded data removed]",
      "text/plain": [
       "<Figure size 432x288 with 1 Axes>"
      ]
     },
     "metadata": {},
     "output_type": "display_data"
    }
   ],
   "source": [
    "# Plotting the count of data \n",
    "list = []\n",
    "for i in data:\n",
    "    if(i[1] == 0):\n",
    "        list.append(\"Normal\")\n",
    "    else:\n",
    "        list.append(\"Pneumonia\")\n",
    "sns.set_style('darkgrid')\n",
    "sns.countplot(list)\n",
    "plt.show()"
   ]
  },
  {
   "cell_type": "code",
   "execution_count": 9,
   "metadata": {
    "colab": {
     "base_uri": "https://localhost:8080/"
    },
    "id": "KEhrbTsxg8TJ",
    "outputId": "d040aaf0-d3ec-4133-f869-9fe40f5d5d28"
   },
   "outputs": [
    {
     "data": {
      "text/plain": [
       "7217"
      ]
     },
     "execution_count": 9,
     "metadata": {},
     "output_type": "execute_result"
    }
   ],
   "source": [
    "len(data)"
   ]
  },
  {
   "cell_type": "code",
   "execution_count": 10,
   "metadata": {
    "id": "Yxg7Ir5eoek1"
   },
   "outputs": [],
   "source": [
    "# shuffling the dataset, so that the model dont get overfit\n",
    "random.shuffle(data)"
   ]
  },
  {
   "cell_type": "code",
   "execution_count": 11,
   "metadata": {
    "id": "axi1fEVDogfw"
   },
   "outputs": [],
   "source": [
    "# Splitting the features and target, in X and Y\n",
    "X=[]\n",
    "Y=[]\n",
    "\n",
    "for feature,labels in data:\n",
    "    X.append(feature)\n",
    "    Y.append(labels)"
   ]
  },
  {
   "cell_type": "code",
   "execution_count": 12,
   "metadata": {
    "colab": {
     "base_uri": "https://localhost:8080/"
    },
    "id": "EGBgx_Gzoi_L",
    "outputId": "3bfc2c9e-723d-402e-c95b-959328a16c3f"
   },
   "outputs": [
    {
     "name": "stdout",
     "output_type": "stream",
     "text": [
      "length of X : 7217\n",
      "length of Y : 7217\n"
     ]
    }
   ],
   "source": [
    "# printing the length of the X and Y data \n",
    "print(f\"length of X : {len(X)}\\nlength of Y : {len(Y)}\")"
   ]
  },
  {
   "cell_type": "code",
   "execution_count": 13,
   "metadata": {
    "id": "EwyY71x-olQv"
   },
   "outputs": [],
   "source": [
    "# Converting the X and Y values to numpy array\n",
    "X=np.array(X)\n",
    "Y=np.array(Y)"
   ]
  },
  {
   "cell_type": "code",
   "execution_count": 14,
   "metadata": {
    "colab": {
     "base_uri": "https://localhost:8080/"
    },
    "id": "aNiYr5MTaDgw",
    "outputId": "a19e00b2-73bf-4684-c039-8ad62e496f33"
   },
   "outputs": [
    {
     "data": {
      "text/plain": [
       "array([0, 0, 0, ..., 1, 1, 0])"
      ]
     },
     "execution_count": 14,
     "metadata": {},
     "output_type": "execute_result"
    }
   ],
   "source": [
    "Y"
   ]
  },
  {
   "cell_type": "code",
   "execution_count": 15,
   "metadata": {
    "colab": {
     "base_uri": "https://localhost:8080/"
    },
    "id": "JaUlP0qConWG",
    "outputId": "e2c8f8f7-6b80-4efd-f240-945c92c6627d"
   },
   "outputs": [
    {
     "name": "stdout",
     "output_type": "stream",
     "text": [
      "[[[0.         0.         0.        ]\n",
      "  [0.         0.         0.        ]\n",
      "  [0.         0.         0.        ]\n",
      "  ...\n",
      "  [0.28235294 0.28235294 0.28235294]\n",
      "  [0.28627451 0.28627451 0.28627451]\n",
      "  [0.24705882 0.24705882 0.24705882]]\n",
      "\n",
      " [[0.         0.         0.        ]\n",
      "  [0.         0.         0.        ]\n",
      "  [0.         0.         0.        ]\n",
      "  ...\n",
      "  [0.28235294 0.28235294 0.28235294]\n",
      "  [0.2745098  0.2745098  0.2745098 ]\n",
      "  [0.25098039 0.25098039 0.25098039]]\n",
      "\n",
      " [[0.         0.         0.        ]\n",
      "  [0.         0.         0.        ]\n",
      "  [0.         0.         0.        ]\n",
      "  ...\n",
      "  [0.27843137 0.27843137 0.27843137]\n",
      "  [0.27843137 0.27843137 0.27843137]\n",
      "  [0.25098039 0.25098039 0.25098039]]\n",
      "\n",
      " ...\n",
      "\n",
      " [[0.         0.         0.        ]\n",
      "  [0.         0.         0.        ]\n",
      "  [0.02745098 0.02745098 0.02745098]\n",
      "  ...\n",
      "  [0.         0.         0.        ]\n",
      "  [0.         0.         0.        ]\n",
      "  [0.         0.         0.        ]]\n",
      "\n",
      " [[0.         0.         0.        ]\n",
      "  [0.         0.         0.        ]\n",
      "  [0.03137255 0.03137255 0.03137255]\n",
      "  ...\n",
      "  [0.         0.         0.        ]\n",
      "  [0.         0.         0.        ]\n",
      "  [0.         0.         0.        ]]\n",
      "\n",
      " [[0.         0.         0.        ]\n",
      "  [0.         0.         0.        ]\n",
      "  [0.03921569 0.03921569 0.03921569]\n",
      "  ...\n",
      "  [0.         0.         0.        ]\n",
      "  [0.         0.         0.        ]\n",
      "  [0.         0.         0.        ]]]\n",
      "[1. 0.]\n"
     ]
    }
   ],
   "source": [
    "# reshaping X and Y\n",
    "X=X/255\n",
    "X=np.reshape(X,(X.shape[0],120,120,3))\n",
    "print(X[0])\n",
    "\n",
    "from keras.utils import np_utils\n",
    "Y=np_utils.to_categorical(Y)\n",
    "print(Y[0])"
   ]
  },
  {
   "cell_type": "code",
   "execution_count": 35,
   "metadata": {
    "colab": {
     "base_uri": "https://localhost:8080/"
    },
    "id": "5KeyevLjO9fG",
    "outputId": "661f1b32-27ba-492c-90fe-563c7e9845ea"
   },
   "outputs": [
    {
     "data": {
      "text/plain": [
       "(120, 120, 3)"
      ]
     },
     "execution_count": 35,
     "metadata": {},
     "output_type": "execute_result"
    }
   ],
   "source": [
    "X.shape[1:]"
   ]
  },
  {
   "cell_type": "markdown",
   "metadata": {},
   "source": [
    "## Creating Cnn-Architecture and Modelling the data"
   ]
  },
  {
   "cell_type": "code",
   "execution_count": 2,
   "metadata": {
    "id": "345yiPSOopYD"
   },
   "outputs": [],
   "source": [
    "from keras.models import Sequential\n",
    "from keras.layers import Conv2D,MaxPooling2D,Flatten,Dense,Dropout,Activation"
   ]
  },
  {
   "cell_type": "code",
   "execution_count": 3,
   "metadata": {
    "colab": {
     "base_uri": "https://localhost:8080/"
    },
    "id": "eHDjbhRbovAL",
    "outputId": "6b37d038-330d-45dc-ab9a-121ac22467c7"
   },
   "outputs": [
    {
     "ename": "NameError",
     "evalue": "name 'X' is not defined",
     "output_type": "error",
     "traceback": [
      "\u001b[1;31m---------------------------------------------------------------------------\u001b[0m",
      "\u001b[1;31mNameError\u001b[0m                                 Traceback (most recent call last)",
      "\u001b[1;32m<ipython-input-3-667ed419b28d>\u001b[0m in \u001b[0;36m<module>\u001b[1;34m\u001b[0m\n\u001b[0;32m      2\u001b[0m \u001b[0mmodel\u001b[0m\u001b[1;33m=\u001b[0m\u001b[0mSequential\u001b[0m\u001b[1;33m(\u001b[0m\u001b[1;33m)\u001b[0m\u001b[1;33m\u001b[0m\u001b[1;33m\u001b[0m\u001b[0m\n\u001b[0;32m      3\u001b[0m \u001b[1;33m\u001b[0m\u001b[0m\n\u001b[1;32m----> 4\u001b[1;33m \u001b[0mmodel\u001b[0m\u001b[1;33m.\u001b[0m\u001b[0madd\u001b[0m\u001b[1;33m(\u001b[0m\u001b[0mConv2D\u001b[0m\u001b[1;33m(\u001b[0m\u001b[1;36m32\u001b[0m\u001b[1;33m,\u001b[0m\u001b[1;33m(\u001b[0m\u001b[1;36m3\u001b[0m\u001b[1;33m,\u001b[0m\u001b[1;36m3\u001b[0m\u001b[1;33m)\u001b[0m\u001b[1;33m,\u001b[0m\u001b[0minput_shape\u001b[0m\u001b[1;33m=\u001b[0m\u001b[0mX\u001b[0m\u001b[1;33m.\u001b[0m\u001b[0mshape\u001b[0m\u001b[1;33m[\u001b[0m\u001b[1;36m1\u001b[0m\u001b[1;33m:\u001b[0m\u001b[1;33m]\u001b[0m\u001b[1;33m)\u001b[0m\u001b[1;33m)\u001b[0m\u001b[1;33m\u001b[0m\u001b[1;33m\u001b[0m\u001b[0m\n\u001b[0m\u001b[0;32m      5\u001b[0m \u001b[0mmodel\u001b[0m\u001b[1;33m.\u001b[0m\u001b[0madd\u001b[0m\u001b[1;33m(\u001b[0m\u001b[0mActivation\u001b[0m\u001b[1;33m(\u001b[0m\u001b[1;34m'relu'\u001b[0m\u001b[1;33m)\u001b[0m\u001b[1;33m)\u001b[0m\u001b[1;33m\u001b[0m\u001b[1;33m\u001b[0m\u001b[0m\n\u001b[0;32m      6\u001b[0m \u001b[0mmodel\u001b[0m\u001b[1;33m.\u001b[0m\u001b[0madd\u001b[0m\u001b[1;33m(\u001b[0m\u001b[0mMaxPooling2D\u001b[0m\u001b[1;33m(\u001b[0m\u001b[0mpool_size\u001b[0m\u001b[1;33m=\u001b[0m\u001b[1;33m(\u001b[0m\u001b[1;36m2\u001b[0m\u001b[1;33m,\u001b[0m\u001b[1;36m2\u001b[0m\u001b[1;33m)\u001b[0m\u001b[1;33m)\u001b[0m\u001b[1;33m)\u001b[0m\u001b[1;33m\u001b[0m\u001b[1;33m\u001b[0m\u001b[0m\n",
      "\u001b[1;31mNameError\u001b[0m: name 'X' is not defined"
     ]
    }
   ],
   "source": [
    "# creating cnn model \n",
    "model=Sequential()\n",
    "\n",
    "model.add(Conv2D(32,(3,3),input_shape=X.shape[1:]))\n",
    "model.add(Activation('relu'))\n",
    "model.add(MaxPooling2D(pool_size=(2,2)))\n",
    "model.add(Dropout(0.5))\n",
    "\n",
    "model.add(Conv2D(32,(3,3)))\n",
    "model.add(Activation('relu'))\n",
    "model.add(MaxPooling2D(pool_size=(2,2)))\n",
    "model.add(Dropout(0.5))\n",
    "\n",
    "model.add(Conv2D(64,(3,3)))\n",
    "model.add(Activation('relu'))\n",
    "model.add(MaxPooling2D(pool_size=(2,2)))\n",
    "model.add(Dropout(0.5))\n",
    "\n",
    "model.add(Conv2D(64,(3,3)))\n",
    "model.add(Activation('relu'))\n",
    "model.add(MaxPooling2D(pool_size=(2,2)))\n",
    "model.add(Dropout(0.5))\n",
    "\n",
    "\n",
    "model.add(Flatten())\n",
    "\n",
    "model.add(Dense(128,activation='relu'))\n",
    "model.add(Dropout(0.5))\n",
    "model.add(Dense(2,activation='softmax'))\n",
    "\n",
    "model.compile(loss='categorical_crossentropy',optimizer='adam',metrics=['accuracy'])\n",
    "model.summary()"
   ]
  },
  {
   "cell_type": "code",
   "execution_count": 18,
   "metadata": {
    "id": "ZG7R1vnPoypH"
   },
   "outputs": [],
   "source": [
    "# splitting the data into train and test using train test split \n",
    "from sklearn.model_selection import train_test_split\n",
    "train_data,test_data,train_target,test_target=train_test_split(X,Y,test_size=0.2)\n"
   ]
  },
  {
   "cell_type": "code",
   "execution_count": 19,
   "metadata": {
    "colab": {
     "base_uri": "https://localhost:8080/"
    },
    "id": "LSzA8DWpyLAR",
    "outputId": "f6cefc2a-5899-4c54-d42e-6eaa6dec38ad"
   },
   "outputs": [
    {
     "name": "stdout",
     "output_type": "stream",
     "text": [
      "train data : 5773\n",
      "test data : 1444\n"
     ]
    }
   ],
   "source": [
    "print(f'train data : {len(train_data)}\\ntest data : {len(test_data)}')"
   ]
  },
  {
   "cell_type": "code",
   "execution_count": 20,
   "metadata": {
    "colab": {
     "base_uri": "https://localhost:8080/"
    },
    "id": "xgtGIDA9o06_",
    "outputId": "34b08705-e059-4750-b604-6f3f5c6d8031"
   },
   "outputs": [
    {
     "name": "stdout",
     "output_type": "stream",
     "text": [
      "Epoch 1/15\n",
      "145/145 [==============================] - 90s 612ms/step - loss: 0.5390 - accuracy: 0.7358 - val_loss: 0.3805 - val_accuracy: 0.9247\n",
      "Epoch 2/15\n",
      "145/145 [==============================] - 88s 610ms/step - loss: 0.2260 - accuracy: 0.9184 - val_loss: 0.1437 - val_accuracy: 0.9515\n",
      "Epoch 3/15\n",
      "145/145 [==============================] - 89s 611ms/step - loss: 0.1639 - accuracy: 0.9430 - val_loss: 0.1369 - val_accuracy: 0.9550\n",
      "Epoch 4/15\n",
      "145/145 [==============================] - 89s 613ms/step - loss: 0.1408 - accuracy: 0.9485 - val_loss: 0.0980 - val_accuracy: 0.9706\n",
      "Epoch 5/15\n",
      "145/145 [==============================] - 88s 608ms/step - loss: 0.1256 - accuracy: 0.9576 - val_loss: 0.1120 - val_accuracy: 0.9680\n",
      "Epoch 6/15\n",
      "145/145 [==============================] - 88s 606ms/step - loss: 0.1030 - accuracy: 0.9662 - val_loss: 0.1035 - val_accuracy: 0.9671\n",
      "Epoch 7/15\n",
      "145/145 [==============================] - 88s 606ms/step - loss: 0.0968 - accuracy: 0.9669 - val_loss: 0.0923 - val_accuracy: 0.9654\n",
      "Epoch 8/15\n",
      "145/145 [==============================] - 89s 612ms/step - loss: 0.1021 - accuracy: 0.9669 - val_loss: 0.0935 - val_accuracy: 0.9732\n",
      "Epoch 9/15\n",
      "145/145 [==============================] - 89s 618ms/step - loss: 0.0792 - accuracy: 0.9734 - val_loss: 0.0734 - val_accuracy: 0.9749\n",
      "Epoch 10/15\n",
      "145/145 [==============================] - 88s 606ms/step - loss: 0.0869 - accuracy: 0.9686 - val_loss: 0.0567 - val_accuracy: 0.9801\n",
      "Epoch 11/15\n",
      "145/145 [==============================] - 88s 605ms/step - loss: 0.0819 - accuracy: 0.9710 - val_loss: 0.0584 - val_accuracy: 0.9810\n",
      "Epoch 12/15\n",
      "145/145 [==============================] - 88s 609ms/step - loss: 0.0809 - accuracy: 0.9738 - val_loss: 0.0657 - val_accuracy: 0.9766\n",
      "Epoch 13/15\n",
      "145/145 [==============================] - 88s 605ms/step - loss: 0.0756 - accuracy: 0.9729 - val_loss: 0.0906 - val_accuracy: 0.9628\n",
      "Epoch 14/15\n",
      "145/145 [==============================] - 90s 619ms/step - loss: 0.0647 - accuracy: 0.9740 - val_loss: 0.0555 - val_accuracy: 0.9801\n",
      "Epoch 15/15\n",
      "145/145 [==============================] - 88s 608ms/step - loss: 0.0682 - accuracy: 0.9764 - val_loss: 0.0689 - val_accuracy: 0.9723\n"
     ]
    }
   ],
   "source": [
    "# fitting the training data into model\n",
    "history=model.fit(train_data,train_target,epochs=15,validation_split=0.2,verbose=1)"
   ]
  },
  {
   "cell_type": "markdown",
   "metadata": {
    "id": "HfL9cb_6WR_Y"
   },
   "source": [
    "## Evaluating the CNN-Model"
   ]
  },
  {
   "cell_type": "code",
   "execution_count": 22,
   "metadata": {
    "colab": {
     "base_uri": "https://localhost:8080/",
     "height": 284
    },
    "id": "jVKnn2dvo9H5",
    "outputId": "7e61ea9c-361a-4cce-97b6-d6b42a0d209c"
   },
   "outputs": [
    {
     "data": {
      "image/png": "[encoded data removed]",
      "text/plain": [
       "<Figure size 432x288 with 1 Axes>"
      ]
     },
     "metadata": {},
     "output_type": "display_data"
    }
   ],
   "source": [
    "# plotting the line of training loss\n",
    "plt.plot(history.history['loss'],'red',label='training loss')\n",
    "plt.plot(history.history['val_loss'],'blue',label='validation loss')\n",
    "plt.xlabel(\"epochs->\",size=15)\n",
    "plt.ylabel(\"loss->\",size=15)\n",
    "plt.legend()\n",
    "plt.show()"
   ]
  },
  {
   "cell_type": "code",
   "execution_count": 23,
   "metadata": {
    "colab": {
     "base_uri": "https://localhost:8080/",
     "height": 284
    },
    "id": "IVo42BEMvanQ",
    "outputId": "80663f8f-357f-45f8-a8d7-4d7d4b58c2b2"
   },
   "outputs": [
    {
     "data": {
      "image/png": "[encoded data removed]",
      "text/plain": [
       "<Figure size 432x288 with 1 Axes>"
      ]
     },
     "metadata": {},
     "output_type": "display_data"
    }
   ],
   "source": [
    "# plotting the line of training accuracy\n",
    "plt.plot(history.history['accuracy'],'red',label='training accuracy')\n",
    "plt.plot(history.history['val_accuracy'],'blue',label='validation accuracy')\n",
    "plt.xlabel(\"epochs->\",size=15)\n",
    "plt.ylabel(\"accuracy->\",size=15)\n",
    "plt.legend()\n",
    "plt.show()"
   ]
  },
  {
   "cell_type": "code",
   "execution_count": 30,
   "metadata": {
    "colab": {
     "base_uri": "https://localhost:8080/"
    },
    "id": "aP1jsppG_07X",
    "outputId": "275c79e6-2964-469c-b724-699ff6d9c4b0"
   },
   "outputs": [
    {
     "name": "stdout",
     "output_type": "stream",
     "text": [
      "46/46 [==============================] - 7s 137ms/step - loss: 0.0758 - accuracy: 0.9730\n",
      "[0.07580330222845078, 0.9729917049407959]\n"
     ]
    }
   ],
   "source": [
    "print(model.evaluate(test_data,test_target,verbose=1))"
   ]
  },
  {
   "cell_type": "markdown",
   "metadata": {
    "id": "17qZe62sGOGK"
   },
   "source": [
    "## Saving the Model"
   ]
  },
  {
   "cell_type": "code",
   "execution_count": 29,
   "metadata": {
    "id": "E-JkVFLfFB3v"
   },
   "outputs": [],
   "source": [
    "model.save(\"/content/drive/MyDrive/Colab Notebooks/Pnemonia_prediction_cnn_model.h5\")"
   ]
  },
  {
   "cell_type": "code",
   "execution_count": 32,
   "metadata": {
    "id": "a_EX3kc9Ndgk"
   },
   "outputs": [],
   "source": [
    "np.save(\"/content/drive/MyDrive/Colab Notebooks/data\",X)\n",
    "np.save(\"/content/drive/MyDrive/Colab Notebooks/target\",Y)"
   ]
  },
  {
   "cell_type": "markdown",
   "metadata": {
    "id": "uXaqh6EEGEGB"
   },
   "source": [
    "## Testing the Model/ Detecting the Images"
   ]
  },
  {
   "cell_type": "code",
   "execution_count": 12,
   "metadata": {
    "id": "qnPBp04dvfzq"
   },
   "outputs": [],
   "source": [
    "# Test the xray images by providing the image path\n",
    "def Detect(imagePath):\n",
    "    image=cv2.imread(imagePath)\n",
    "    resized=cv2.resize(image,(120,120),fx=0.5,fy=0.5)\n",
    "    normalized=resized/255\n",
    "    reshaped=np.reshape(normalized,(1,120,120,3))\n",
    "    result=model.predict(reshaped)\n",
    "    label=np.argmax(result,axis=1)[0]\n",
    "    prob=np.max(result,axis=1)[0]\n",
    "    prob=round(prob,2)*100\n",
    "    print(result)\n",
    "    print(label)\n",
    "    print(prob)"
   ]
  },
  {
   "cell_type": "code",
   "execution_count": null,
   "metadata": {},
   "outputs": [],
   "source": []
  },
  {
   "cell_type": "code",
   "execution_count": 18,
   "metadata": {
    "colab": {
     "base_uri": "https://localhost:8080/"
    },
    "id": "IfwFxQpdvj27",
    "outputId": "cf828a2c-75c2-47a2-e94f-62cbd7493c58"
   },
   "outputs": [
    {
     "name": "stdout",
     "output_type": "stream",
     "text": [
      "[[0.1264402  0.87355983]]\n",
      "1\n",
      "87.00000047683716\n"
     ]
    }
   ],
   "source": [
    "model=LoadCnn()\n",
    "\n",
    "Detect(\"D:/Pneumonia detection/chest_xray/chest_xray/test/NORMAL/IM-0003-0001.jpeg\")"
   ]
  },
  {
   "cell_type": "code",
   "execution_count": 19,
   "metadata": {
    "id": "WryJuI6kYvyq"
   },
   "outputs": [
    {
     "name": "stdout",
     "output_type": "stream",
     "text": [
      "87.0\n"
     ]
    }
   ],
   "source": [
    "n= 87.00000047683716\n",
    "print(round(n,2))"
   ]
  },
  {
   "cell_type": "code",
   "execution_count": null,
   "metadata": {},
   "outputs": [],
   "source": []
  }
 ],
 "metadata": {
  "accelerator": "TPU",
  "colab": {
   "collapsed_sections": [],
   "name": "PneumoniaDetection_using_chest_xrays.ipynb",
   "provenance": []
  },
  "kernelspec": {
   "display_name": "Python 3",
   "language": "python",
   "name": "python3"
  },
  "language_info": {
   "codemirror_mode": {
    "name": "ipython",
    "version": 3
   },
   "file_extension": ".py",
   "mimetype": "text/x-python",
   "name": "python",
   "nbconvert_exporter": "python",
   "pygments_lexer": "ipython3",
   "version": "3.7.7"
  }
 },
 "nbformat": 4,
 "nbformat_minor": 1
}
