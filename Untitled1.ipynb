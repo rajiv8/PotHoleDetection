{
 "cells": [
  {
   "cell_type": "code",
   "execution_count": 2,
   "metadata": {},
   "outputs": [
    {
     "name": "stdout",
     "output_type": "stream",
     "text": [
      "7\n",
      "ababababababbb\n"
     ]
    }
   ],
   "source": [
    "n = int(input())\n",
    "s=input()\n",
    "\n",
    "count_a=0\n",
    "count_b=0\n",
    "for i in s:\n",
    "    if(i=='a'):\n",
    "        count_a+=1\n",
    "            \n",
    "    elif(i=='b'):\n",
    "        count_b+=1\n",
    "if(count_a>count_b):\n",
    "    print(\"Team A won\")\n",
    "else:\n",
    "    print(\"Team B won\")\n",
    "    "
   ]
  },
  {
   "cell_type": "code",
   "execution_count": 1,
   "metadata": {},
   "outputs": [
    {
     "ename": "IndentationError",
     "evalue": "expected an indented block (<ipython-input-1-13be665fca80>, line 39)",
     "output_type": "error",
     "traceback": [
      "\u001b[1;36m  File \u001b[1;32m\"<ipython-input-1-13be665fca80>\"\u001b[1;36m, line \u001b[1;32m39\u001b[0m\n\u001b[1;33m    maxSum=-1e8\u001b[0m\n\u001b[1;37m         ^\u001b[0m\n\u001b[1;31mIndentationError\u001b[0m\u001b[1;31m:\u001b[0m expected an indented block\n"
     ]
    }
   ],
   "source": [
    "n= int(input())\n",
    "\n",
    "arr=[int(x) for x in int(input())]\n",
    "\n",
    "curr=0\n",
    "nxt=0\n",
    "\n",
    "# mx=[]\n",
    "\n",
    "# cnt=0\n",
    "# for i in range(0,len(arr):\n",
    "    \n",
    "#     curr+=arr[i]\n",
    "               \n",
    "#     cnt+=1\n",
    "               \n",
    "#     if(cnt==3):\n",
    "#         mx.append(curr)\n",
    "#         cnt=0\n",
    "#         nxt=0\n",
    "#         curr=0\n",
    "# sum=0             \n",
    "# for i in arr:\n",
    "               \n",
    "    \n",
    "# print(max(mx))\n",
    "\n",
    "\n",
    "\n",
    "\n",
    "\n",
    "\n",
    "\n",
    "\n",
    "n=int(input())\n",
    "arr=[]\n",
    "for i in range(n):\n",
    "    arr.append(int(input()))\n",
    "maxSum=-1e8              \n",
    "for i in range(0,n):\n",
    "    currSum=0\n",
    "    for j in range(i,n):\n",
    "        currSum=currSum+arr[j]\n",
    "        if(currSum>maxSum):\n",
    "            maxSum=currSum\n",
    "print(maxSum)\n",
    "            \n",
    "               \n",
    "            \n",
    "            \n",
    "            \n",
    "            \n",
    "            \n",
    "            \n",
    "            \n",
    "            \n",
    "            \n",
    "            \n",
    "            \n",
    "    "
   ]
  },
  {
   "cell_type": "code",
   "execution_count": null,
   "metadata": {},
   "outputs": [],
   "source": []
  }
 ],
 "metadata": {
  "kernelspec": {
   "display_name": "Python 3",
   "language": "python",
   "name": "python3"
  },
  "language_info": {
   "codemirror_mode": {
    "name": "ipython",
    "version": 3
   },
   "file_extension": ".py",
   "mimetype": "text/x-python",
   "name": "python",
   "nbconvert_exporter": "python",
   "pygments_lexer": "ipython3",
   "version": "3.7.7"
  }
 },
 "nbformat": 4,
 "nbformat_minor": 4
}
